{
 "cells": [
  {
   "cell_type": "markdown",
   "id": "purple-nursing",
   "metadata": {
    "extensions": {
     "jupyter_dashboards": {
      "activeView": "grid_default",
      "views": {
       "grid_default": {
        "col": null,
        "height": 2,
        "hidden": true,
        "row": null,
        "width": 2
       }
      }
     }
    }
   },
   "source": [
    "<!-- # Using Voila and IPYWidgets to Create Web Apps directly from Jupyter\n",
    "\n",
    "### Required Modules\n",
    "\n",
    "1. **bqplot** (or other widget-based plotting system)\n",
    "2. **ipywidgets** (or other widget library)\n",
    "3. **voila**\n",
    "\n",
    "### Deploying the App\n",
    "\n",
    "1. Heroku\n",
    "2. Binder\n",
    "3. Google App Engine -->"
   ]
  },
  {
   "cell_type": "markdown",
   "id": "alpha-smith",
   "metadata": {
    "extensions": {
     "jupyter_dashboards": {
      "activeView": "grid_default",
      "views": {
       "grid_default": {
        "col": null,
        "height": 2,
        "hidden": true,
        "row": null,
        "width": 2
       }
      }
     }
    }
   },
   "source": [
    "# Iris Species Classification"
   ]
  },
  {
   "cell_type": "code",
   "execution_count": 61,
   "id": "residential-rebound",
   "metadata": {
    "extensions": {
     "jupyter_dashboards": {
      "activeView": "grid_default",
      "views": {
       "grid_default": {
        "col": null,
        "height": 2,
        "hidden": true,
        "row": null,
        "width": 2
       }
      }
     }
    }
   },
   "outputs": [],
   "source": [
    "import pandas as pd\n",
    "from sklearn.datasets import load_iris\n",
    "from ipywidgets import AppLayout\n",
    "from ipywidgets import Dropdown, Layout, HTML, AppLayout, VBox, Label, HBox, BoundedFloatText, interact, Output\n",
    "import plotly.graph_objects as go"
   ]
  },
  {
   "cell_type": "code",
   "execution_count": 38,
   "id": "beginning-world",
   "metadata": {},
   "outputs": [],
   "source": [
    "import pandas as pd\n",
    "from sklearn.datasets import load_iris\n",
    "\n",
    "data = load_iris()\n",
    "\n",
    "df = pd.DataFrame(data = data['data'], columns = data.feature_names)\n",
    "\n",
    "species_dict = {0:'setosa', 1: 'versicolor', 2: 'virginica'}\n",
    "\n",
    "df['species'] = [species_dict[x] for x in data.target]\n",
    "\n",
    "# df.head()"
   ]
  },
  {
   "cell_type": "code",
   "execution_count": 39,
   "id": "upset-southeast",
   "metadata": {},
   "outputs": [],
   "source": [
    "# set default x and y axis values (these will be able to be changed via the widgets later)\n",
    "x = 'sepal length (cm)'\n",
    "y = 'sepal width (cm)'\n",
    "\n",
    "# create df subsets by species for use in traces\n",
    "df_setosa = df[df.species == 'setosa']\n",
    "df_versicolor = df[df.species == 'versicolor']\n",
    "df_virginica = df[df.species == 'virginica']\n",
    "\n",
    "# create traces for each species\n",
    "setosa = go.Scatter(x=df_setosa[x], y=df_setosa[y],\n",
    "                    mode='markers',\n",
    "                    name='setosa')\n",
    "versicolor = go.Scatter(x=df_versicolor[x], y=df_versicolor[y],\n",
    "                    mode='markers',\n",
    "                    name='versicolor')\n",
    "virginica = go.Scatter(x=df_virginica[x], y=df_virginica[y],\n",
    "                    mode='markers',\n",
    "                    name='virginica')\n",
    "\n",
    "# create the graph object as a FigureWidget\n",
    "g = go.FigureWidget(data=[setosa, versicolor, virginica],\n",
    "                    layout=go.Layout(\n",
    "                            title={\n",
    "                                'text': \"Iris Measurements\",\n",
    "                                'y':0.85,\n",
    "                                'x':0.5,\n",
    "                                'xanchor': 'center',\n",
    "                                'yanchor': 'top'},\n",
    "                            xaxis_title=x,\n",
    "                            yaxis_title=y,\n",
    "                            legend_title = \"Iris Species\"\n",
    "                    ))\n",
    "\n",
    "# g.show()"
   ]
  },
  {
   "cell_type": "code",
   "execution_count": 35,
   "id": "social-festival",
   "metadata": {
    "extensions": {
     "jupyter_dashboards": {
      "activeView": "grid_default",
      "views": {
       "grid_default": {
        "col": null,
        "height": 2,
        "hidden": true,
        "row": null,
        "width": 2
       }
      }
     }
    }
   },
   "outputs": [],
   "source": [
    "select_x = Dropdown(options = data.feature_names,\n",
    "                           layout = Layout(width = '160px'))\n",
    "select_y = Dropdown(options = data.feature_names[::-1],\n",
    "                           layout = Layout(width = '160px'))"
   ]
  },
  {
   "cell_type": "code",
   "execution_count": 36,
   "id": "senior-partition",
   "metadata": {},
   "outputs": [],
   "source": [
    "# this function specifies which values to update each time \n",
    "# a widget value is changed\n",
    "\n",
    "def response(change):\n",
    "    with g.batch_update():\n",
    "        g.data[0].x = df_setosa[select_x.value]\n",
    "        g.data[1].x = df_versicolor[select_x.value]\n",
    "        g.data[2].x = df_virginica[select_x.value]\n",
    "\n",
    "        g.data[0].y = df_setosa[select_y.value]\n",
    "        g.data[1].y = df_versicolor[select_y.value]\n",
    "        g.data[2].y = df_virginica[select_y.value]\n",
    "\n",
    "        g.layout = go.Layout(\n",
    "                            title={\n",
    "                                'text': \"Iris Measurements\",\n",
    "                                'y':0.85,\n",
    "                                'x':0.5,\n",
    "                                'xanchor': 'center',\n",
    "                                'yanchor': 'top'},\n",
    "                            xaxis_title=select_x.value,\n",
    "                            yaxis_title=select_y.value,\n",
    "                            legend_title = \"Iris Species\"\n",
    "                    )\n",
    "\n",
    "# the observe function will call the response function any time the \n",
    "# widget is updated\n",
    "select_x.observe(response, names=\"value\")\n",
    "select_y.observe(response, names = \"value\")"
   ]
  },
  {
   "cell_type": "code",
   "execution_count": 37,
   "id": "hawaiian-morocco",
   "metadata": {},
   "outputs": [
    {
     "data": {
      "application/vnd.jupyter.widget-view+json": {
       "model_id": "1983f3a960234619adcc8f8b8404663a",
       "version_major": 2,
       "version_minor": 0
      },
      "text/plain": [
       "VBox(children=(HBox(children=(Dropdown(layout=Layout(width='160px'), options=('sepal length (cm)', 'sepal widt…"
      ]
     },
     "metadata": {},
     "output_type": "display_data"
    }
   ],
   "source": [
    "container = HBox([select_x, select_y])\n",
    "VBox([container,\n",
    "              g])"
   ]
  },
  {
   "cell_type": "code",
   "execution_count": 50,
   "id": "muslim-auditor",
   "metadata": {
    "extensions": {
     "jupyter_dashboards": {
      "activeView": "grid_default",
      "views": {
       "grid_default": {
        "col": null,
        "height": 2,
        "hidden": true,
        "row": null,
        "width": 2
       }
      }
     }
    }
   },
   "outputs": [
    {
     "name": "stdout",
     "output_type": "stream",
     "text": [
      "accuracy =  0.9473684210526315\n"
     ]
    }
   ],
   "source": [
    "from sklearn.model_selection import train_test_split\n",
    "from sklearn.neighbors import KNeighborsClassifier\n",
    "from sklearn import metrics\n",
    "import pickle\n",
    "\n",
    "features = ['sepal length (cm)' , 'sepal width (cm)', 'petal length (cm)', 'petal width (cm)']\n",
    "X_train, X_test, y_train, y_test = train_test_split(df[features], df.species, test_size = 0.25, stratify = df['species'], random_state = 42)\n",
    "\n",
    "knn = KNeighborsClassifier(n_neighbors=8)\n",
    "knn.fit(X_train, y_train)\n",
    "\n",
    "# pred = knn.predict(X_test)\n",
    "# print('accuracy = ', metrics.accuracy_score(y_test, pred))\n",
    "#   accuracy was 94.7%\n",
    "\n",
    "# use pickle to save the model\n",
    "with open('knn.pickle', 'wb') as to_write:\n",
    "    pickle.dump(knn, to_write)"
   ]
  },
  {
   "cell_type": "code",
   "execution_count": 45,
   "id": "moderate-alexandria",
   "metadata": {},
   "outputs": [],
   "source": [
    "knn_model = pickle.load(open('knn.pickle', 'rb'))"
   ]
  },
  {
   "cell_type": "code",
   "execution_count": 55,
   "id": "innovative-rachel",
   "metadata": {
    "extensions": {
     "jupyter_dashboards": {
      "activeView": "grid_default",
      "views": {
       "grid_default": {
        "col": null,
        "height": 2,
        "hidden": true,
        "row": null,
        "width": 2
       }
      }
     }
    }
   },
   "outputs": [],
   "source": [
    "sepal_length = BoundedFloatText(value = 8, min = 4.0, max = 8.0, step = 0.2, description = 'sepal length')\n",
    "sepal_width = BoundedFloatText(value = 8, min = 1.8, max = 4.6, step = 0.2, description = 'sepal width')\n",
    "petal_length = BoundedFloatText(value = 8, min = 0.8, max = 7, step = 0.2, description = 'petal length')\n",
    "petal_width = BoundedFloatText(value = 8, min = 0.0, max = 2.8, step = 0.2, description = 'petal width')"
   ]
  },
  {
   "cell_type": "code",
   "execution_count": 56,
   "id": "basic-carnival",
   "metadata": {
    "extensions": {
     "jupyter_dashboards": {
      "activeView": "grid_default",
      "views": {
       "grid_default": {
        "col": null,
        "height": 2,
        "hidden": true,
        "row": null,
        "width": 2
       }
      }
     }
    }
   },
   "outputs": [],
   "source": [
    "def run_model(sepal_length, sepal_width, petal_length, petal_width):\n",
    "    \n",
    "    result = knn.predict([[sepal_length, sepal_width, petal_length, petal_width]])[0]\n",
    "    \n",
    "    out = Output(layout={'border': '1px solid white'})\n",
    "    \n",
    "    with out:\n",
    "        display(HTML(value=f'Predicted species: <b>{result.capitalize()}</b>'))\n",
    "        \n",
    "    return out"
   ]
  },
  {
   "cell_type": "markdown",
   "id": "nominated-wiring",
   "metadata": {},
   "source": [
    "### KNN Model Predictions"
   ]
  },
  {
   "cell_type": "code",
   "execution_count": 62,
   "id": "adequate-geometry",
   "metadata": {
    "extensions": {
     "jupyter_dashboards": {
      "activeView": "grid_default",
      "views": {
       "grid_default": {
        "col": null,
        "height": 2,
        "hidden": true,
        "row": null,
        "width": 2
       }
      }
     }
    }
   },
   "outputs": [
    {
     "data": {
      "application/vnd.jupyter.widget-view+json": {
       "model_id": "169dce3d64c54cc48dc5d244551bd539",
       "version_major": 2,
       "version_minor": 0
      },
      "text/plain": [
       "interactive(children=(BoundedFloatText(value=8.0, description='sepal length', max=8.0, min=4.0, step=0.2), Bou…"
      ]
     },
     "metadata": {},
     "output_type": "display_data"
    }
   ],
   "source": [
    "interact(run_model,\n",
    "        sepal_length = BoundedFloatText(value = 8, min = 4.0, max = 8.0, step = 0.2, description = 'sepal length'),\n",
    "        sepal_width = BoundedFloatText(value = 8, min = 1.8, max = 4.6, step = 0.2, description = 'sepal width'),\n",
    "        petal_length = BoundedFloatText(value = 8, min = 0.8, max = 7, step = 0.2, description = 'petal length'),\n",
    "        petal_width = BoundedFloatText(value = 8, min = 0.0, max = 2.8, step = 0.2, description = 'petal width'),\n",
    "        );"
   ]
  },
  {
   "cell_type": "code",
   "execution_count": null,
   "id": "colored-rochester",
   "metadata": {
    "extensions": {
     "jupyter_dashboards": {
      "activeView": "grid_default",
      "views": {
       "grid_default": {
        "col": null,
        "height": 2,
        "hidden": true,
        "row": null,
        "width": 2
       }
      }
     }
    }
   },
   "outputs": [],
   "source": []
  },
  {
   "cell_type": "code",
   "execution_count": null,
   "id": "intensive-applicant",
   "metadata": {
    "extensions": {
     "jupyter_dashboards": {
      "activeView": "grid_default",
      "views": {
       "grid_default": {
        "col": null,
        "height": 2,
        "hidden": true,
        "row": null,
        "width": 2
       }
      }
     }
    }
   },
   "outputs": [],
   "source": []
  }
 ],
 "metadata": {
  "extensions": {
   "jupyter_dashboards": {
    "activeView": "grid_default",
    "version": 1,
    "views": {
     "grid_default": {
      "cellMargin": 10,
      "defaultCellHeight": 60,
      "maxColumns": 12,
      "name": "grid",
      "type": "grid"
     }
    }
   }
  },
  "kernelspec": {
   "display_name": "Python 3",
   "language": "python",
   "name": "python3"
  },
  "language_info": {
   "codemirror_mode": {
    "name": "ipython",
    "version": 3
   },
   "file_extension": ".py",
   "mimetype": "text/x-python",
   "name": "python",
   "nbconvert_exporter": "python",
   "pygments_lexer": "ipython3",
   "version": "3.8.5"
  }
 },
 "nbformat": 4,
 "nbformat_minor": 5
}
