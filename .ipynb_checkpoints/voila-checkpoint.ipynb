{
 "cells": [
  {
   "cell_type": "markdown",
   "id": "pediatric-platform",
   "metadata": {
    "extensions": {
     "jupyter_dashboards": {
      "activeView": "grid_default",
      "views": {
       "grid_default": {
        "col": null,
        "height": 2,
        "hidden": true,
        "row": null,
        "width": 2
       }
      }
     }
    }
   },
   "source": [
    "<!-- # Using Voila and IPYWidgets to Create Web Apps directly from Jupyter\n",
    "\n",
    "### Required Modules\n",
    "\n",
    "1. **bqplot:** widget-based plotting system\n",
    "\n",
    "2. **ipywidgets** (or other widget library)\n",
    "\n",
    "3. **voila** -->"
   ]
  },
  {
   "cell_type": "code",
   "execution_count": 12,
   "id": "veterinary-tolerance",
   "metadata": {
    "extensions": {
     "jupyter_dashboards": {
      "activeView": "grid_default",
      "views": {
       "grid_default": {
        "col": null,
        "height": 2,
        "hidden": true,
        "row": null,
        "width": 2
       }
      }
     }
    }
   },
   "outputs": [],
   "source": [
    "import pandas as pd\n",
    "from sklearn.datasets import load_iris\n",
    "\n",
    "from ipywidgets import AppLayout\n",
    "from ipywidgets import HTML, Layout, Dropdown, Output, VBox, Label, BoundedFloatText, interact\n",
    "\n",
    "import bqplot as bq"
   ]
  },
  {
   "cell_type": "code",
   "execution_count": 13,
   "id": "inside-coating",
   "metadata": {
    "extensions": {
     "jupyter_dashboards": {
      "activeView": "grid_default",
      "views": {
       "grid_default": {
        "col": null,
        "height": 2,
        "hidden": true,
        "row": null,
        "width": 2
       }
      }
     }
    }
   },
   "outputs": [],
   "source": [
    "data = load_iris()\n",
    "\n",
    "df = pd.DataFrame(data = data['data'], columns = data.feature_names)\n",
    "\n",
    "species_dict = {0:'setosa', 1: 'versicolor', 2: 'virginica'}\n",
    "\n",
    "df['species'] = [species_dict[x] for x in data.target]\n",
    "\n",
    "# df.head()"
   ]
  },
  {
   "cell_type": "code",
   "execution_count": 14,
   "id": "fixed-straight",
   "metadata": {
    "extensions": {
     "jupyter_dashboards": {
      "activeView": "grid_default",
      "views": {
       "grid_default": {
        "col": null,
        "height": 2,
        "hidden": true,
        "row": null,
        "width": 2
       }
      }
     }
    }
   },
   "outputs": [],
   "source": [
    "header = HTML(\"<h1>Iris Species Classification</h1>\", \n",
    "              layout=Layout(height='auto'))"
   ]
  },
  {
   "cell_type": "code",
   "execution_count": 15,
   "id": "conditional-anaheim",
   "metadata": {
    "extensions": {
     "jupyter_dashboards": {
      "activeView": "grid_default",
      "views": {
       "grid_default": {
        "col": null,
        "height": 2,
        "hidden": true,
        "row": null,
        "width": 2
       }
      }
     }
    }
   },
   "outputs": [],
   "source": [
    "select_x = Dropdown(options = data.feature_names,\n",
    "                           layout = Layout(width = '160px'))\n",
    "select_y = Dropdown(options = data.feature_names[::-1],\n",
    "                           layout = Layout(width = '160px'))"
   ]
  },
  {
   "cell_type": "code",
   "execution_count": 16,
   "id": "instrumental-liberia",
   "metadata": {
    "extensions": {
     "jupyter_dashboards": {
      "activeView": "grid_default",
      "views": {
       "grid_default": {
        "col": null,
        "height": 2,
        "hidden": true,
        "row": null,
        "width": 2
       }
      }
     }
    }
   },
   "outputs": [],
   "source": [
    "species_hues_dict = {'setosa':'#c38d9e', 'versicolor':'#e8a87c', 'virginica':'#41b3a3'}\n",
    "species_hues = [species_hues_dict[i] for i in df['species']]\n",
    "\n",
    "# x and y are set to the default widget values\n",
    "x = select_x.value\n",
    "y = select_y.value\n",
    "xaxis = df[x]\n",
    "yaxis = df[y]\n",
    "\n",
    "# specify scale: linear, ordinal, date, etc.\n",
    "sc_x = bq.LinearScale()\n",
    "sc_y = bq.LinearScale()\n",
    "sc_c = bq.ColorScale()\n",
    "\n",
    "# create series\n",
    "series = bq.Scatter(x=xaxis, y=yaxis, \n",
    "                    scales={'x': sc_x, 'y': sc_y, 'colors': sc_c}, \n",
    "                    colors = species_hues, \n",
    "#                     display_legend = True\n",
    "                   )\n",
    "ax_x = bq.Axis(scale=sc_x, label = select_x.value)\n",
    "ax_y = bq.Axis(scale=sc_y, \n",
    "               orientation='vertical',\n",
    "               label = select_y.value\n",
    "              )\n",
    "\n",
    "# create figure\n",
    "fig = bq.Figure(marks=[series], axes=[ax_x, ax_y],\n",
    "                colors = species_hues,\n",
    "                title = f'{x.title()[:-4]} vs {y.title()[:-4]}',\n",
    "                title_style = {'font-weight': 'bold', \n",
    "                              'background-color': 'rgb(255,255,255)'},\n",
    "                fig_margin=dict(top=0, bottom=80, left=50, right=20))\n",
    "\n",
    "\n",
    "# specify how updated widget values should affect the figure\n",
    "def update_plot(*args):\n",
    "    \n",
    "    x = select_x.value\n",
    "    y = select_y.value\n",
    "\n",
    "    series.x = df[x]\n",
    "    series.y = df[y]\n",
    "    ax_x.label = x\n",
    "    ax_y.label = y\n",
    "    fig.title = f'{x.title()[:-4]} vs {y.title()[:-4]}'\n",
    "\n",
    "# connect widgets to figure\n",
    "select_x.observe(update_plot, 'value')\n",
    "select_y.observe(update_plot, 'value')"
   ]
  },
  {
   "cell_type": "code",
   "execution_count": 17,
   "id": "twelve-interval",
   "metadata": {
    "extensions": {
     "jupyter_dashboards": {
      "activeView": "grid_default",
      "views": {
       "grid_default": {
        "col": null,
        "height": 2,
        "hidden": true,
        "row": null,
        "width": 2
       }
      }
     }
    }
   },
   "outputs": [
    {
     "data": {
      "application/vnd.jupyter.widget-view+json": {
       "model_id": "a283113d48e847a8be7bf51e58444078",
       "version_major": 2,
       "version_minor": 0
      },
      "text/plain": [
       "AppLayout(children=(HTML(value='<h1>Iris Species Classification</h1>', layout=Layout(grid_area='header', heigh…"
      ]
     },
     "metadata": {},
     "output_type": "display_data"
    }
   ],
   "source": [
    "AppLayout(\n",
    "          header=header,\n",
    "          left_sidebar=VBox([Label(\"Feature 1:\"),\n",
    "                             select_x,\n",
    "                             Label(\"Feature 2:\"),\n",
    "                             select_y]),\n",
    "          right_sidebar=fig,\n",
    "          footer=None,\n",
    "          pane_widths=['170px', 1, 1],\n",
    "          pane_heights=['80px', 2, 1],\n",
    "          height='600px',\n",
    "          grid_gap=\"50px\")"
   ]
  },
  {
   "cell_type": "code",
   "execution_count": 7,
   "id": "designing-punishment",
   "metadata": {
    "extensions": {
     "jupyter_dashboards": {
      "activeView": "grid_default",
      "views": {
       "grid_default": {
        "col": null,
        "height": 2,
        "hidden": true,
        "row": null,
        "width": 2
       }
      }
     }
    }
   },
   "outputs": [],
   "source": [
    "from sklearn.model_selection import train_test_split\n",
    "from sklearn.neighbors import KNeighborsClassifier\n",
    "from sklearn import metrics\n",
    "\n",
    "train, test = train_test_split(df, test_size = 0.25, stratify = df['species'], random_state = 42)\n",
    "\n",
    "X_train = train[['sepal length (cm)' , 'sepal width (cm)', 'petal length (cm)', 'petal width (cm)']]\n",
    "y_train = train.species\n",
    "X_test = test[['sepal length (cm)' , 'sepal width (cm)', 'petal length (cm)', 'petal width (cm)']]\n",
    "y_test = test.species\n",
    "\n",
    "knn = KNeighborsClassifier(n_neighbors=8)\n",
    "knn.fit(X_train, y_train)\n",
    "pred = knn.predict(X_test)\n",
    "# print('accuracy = ', metrics.accuracy_score(y_test, pred))"
   ]
  },
  {
   "cell_type": "code",
   "execution_count": 20,
   "id": "dependent-perspective",
   "metadata": {
    "extensions": {
     "jupyter_dashboards": {
      "activeView": "grid_default",
      "views": {
       "grid_default": {
        "col": null,
        "height": 2,
        "hidden": true,
        "row": null,
        "width": 2
       }
      }
     }
    }
   },
   "outputs": [],
   "source": [
    "sepal_length = BoundedFloatText(value = 8, min = 4.0, max = 8.0, step = 0.2, description = 'sepal length')\n",
    "sepal_width = BoundedFloatText(value = 8, min = 1.8, max = 4.6, step = 0.2, description = 'sepal width')\n",
    "petal_length = BoundedFloatText(value = 8, min = 0.8, max = 7, step = 0.2, description = 'petal length')\n",
    "petal_width = BoundedFloatText(value = 8, min = 0.0, max = 2.8, step = 0.2, description = 'petal width')"
   ]
  },
  {
   "cell_type": "code",
   "execution_count": 22,
   "id": "double-ozone",
   "metadata": {
    "extensions": {
     "jupyter_dashboards": {
      "activeView": "grid_default",
      "views": {
       "grid_default": {
        "col": null,
        "height": 2,
        "hidden": true,
        "row": null,
        "width": 2
       }
      }
     }
    }
   },
   "outputs": [],
   "source": [
    "result = knn.predict([[sepal_length.value, sepal_width.value, petal_length.value, petal_width.value]])[0]"
   ]
  },
  {
   "cell_type": "code",
   "execution_count": 31,
   "id": "identical-market",
   "metadata": {
    "extensions": {
     "jupyter_dashboards": {
      "activeView": "grid_default",
      "views": {
       "grid_default": {
        "col": null,
        "height": 2,
        "hidden": true,
        "row": null,
        "width": 2
       }
      }
     }
    }
   },
   "outputs": [],
   "source": [
    "def run_model(sepal_length, sepal_width, petal_length, petal_width):\n",
    "    \n",
    "    result = knn.predict([[sepal_length, sepal_width, petal_length, petal_width]])[0]\n",
    "    \n",
    "    out = Output(layout={'border': '1px solid white'})\n",
    "    \n",
    "    with out:\n",
    "        display(HTML(value=f'Predicted species: <b>{result.capitalize()}</b>'))\n",
    "        \n",
    "    return out"
   ]
  },
  {
   "cell_type": "code",
   "execution_count": 33,
   "id": "stainless-undergraduate",
   "metadata": {
    "extensions": {
     "jupyter_dashboards": {
      "activeView": "grid_default",
      "views": {
       "grid_default": {
        "col": null,
        "height": 2,
        "hidden": true,
        "row": null,
        "width": 2
       }
      }
     }
    }
   },
   "outputs": [
    {
     "data": {
      "application/vnd.jupyter.widget-view+json": {
       "model_id": "04d4f77b6eb34b7091e9f1a81227e6fa",
       "version_major": 2,
       "version_minor": 0
      },
      "text/plain": [
       "interactive(children=(BoundedFloatText(value=8.0, description='sepal length', max=8.0, min=4.0, step=0.2), Bou…"
      ]
     },
     "metadata": {},
     "output_type": "display_data"
    }
   ],
   "source": [
    "interact(run_model,\n",
    "        sepal_length = BoundedFloatText(value = 8, min = 4.0, max = 8.0, step = 0.2, description = 'sepal length'),\n",
    "        sepal_width = BoundedFloatText(value = 8, min = 1.8, max = 4.6, step = 0.2, description = 'sepal width'),\n",
    "        petal_length = BoundedFloatText(value = 8, min = 0.8, max = 7, step = 0.2, description = 'petal length'),\n",
    "        petal_width = BoundedFloatText(value = 8, min = 0.0, max = 2.8, step = 0.2, description = 'petal width'),\n",
    "        );"
   ]
  },
  {
   "cell_type": "code",
   "execution_count": 10,
   "id": "opponent-retention",
   "metadata": {
    "extensions": {
     "jupyter_dashboards": {
      "activeView": "grid_default",
      "views": {
       "grid_default": {
        "col": null,
        "height": 2,
        "hidden": true,
        "row": null,
        "width": 2
       }
      }
     }
    }
   },
   "outputs": [],
   "source": [
    "header2 = header = HTML(\"<h2>KNN Model Predictions</h2>\", \n",
    "              layout=Layout(height='auto'))"
   ]
  },
  {
   "cell_type": "code",
   "execution_count": 12,
   "id": "cultural-scientist",
   "metadata": {
    "extensions": {
     "jupyter_dashboards": {
      "activeView": "grid_default",
      "views": {
       "grid_default": {
        "col": null,
        "height": 2,
        "hidden": true,
        "row": null,
        "width": 2
       }
      }
     }
    }
   },
   "outputs": [],
   "source": [
    "out = Output(layout={'font-size': 'large'})\n",
    "with out:\n",
    "    display(HTML(value=f'<h2>Predicted Species: </h2><h3>{result.capitalize()}</h3>'))"
   ]
  },
  {
   "cell_type": "code",
   "execution_count": 8,
   "id": "freelance-funds",
   "metadata": {
    "extensions": {
     "jupyter_dashboards": {
      "activeView": "grid_default",
      "views": {
       "grid_default": {
        "col": null,
        "height": 2,
        "hidden": true,
        "row": null,
        "width": 2
       }
      }
     }
    }
   },
   "outputs": [],
   "source": [
    "# sepal_length = BoundedFloatText(value = 8, min = 4.0, max = 8.0, step = 0.2, description = 'sepal length')\n",
    "# sepal_width = BoundedFloatText(value = 8, min = 1.8, max = 4.6, step = 0.2, description = 'sepal width')\n",
    "# petal_length = BoundedFloatText(value = 8, min = 0.8, max = 7, step = 0.2, description = 'petal length')\n",
    "# petal_width = BoundedFloatText(value = 8, min = 0.0, max = 2.8, step = 0.2, description = 'petal width')\n",
    "\n",
    "# lengths = VBox([sepal_length, sepal_width, petal_length, petal_width])"
   ]
  },
  {
   "cell_type": "code",
   "execution_count": 207,
   "id": "based-minimum",
   "metadata": {
    "extensions": {
     "jupyter_dashboards": {
      "activeView": "grid_default",
      "views": {
       "grid_default": {
        "col": null,
        "height": 2,
        "hidden": true,
        "row": null,
        "width": 2
       }
      }
     }
    }
   },
   "outputs": [],
   "source": [
    "# def update_model(*args):\n",
    "    \n",
    "#     result = knn.predict([[sepal_length.value, sepal_width.value, petal_length.value, petal_width.value]])[0]\n",
    "\n",
    "#     out = Output(layout={'font-size': 'large'})\n",
    "#     with out:\n",
    "#         display(HTML(value=f'<h2>Predicted Species: </h2><h3>{result.capitalize()}</h3>'))\n",
    "    \n",
    "#     return out\n",
    "\n",
    "# sepal_length.observe(update_model, 'value')\n",
    "# sepal_width.observe(update_model, 'value')\n",
    "# petal_length.observe(update_model, 'value')\n",
    "# petal_width.observe(update_model, 'value')\n",
    "# out.observe(update_model, 'value')"
   ]
  },
  {
   "cell_type": "code",
   "execution_count": 20,
   "id": "black-productivity",
   "metadata": {
    "extensions": {
     "jupyter_dashboards": {
      "activeView": "grid_default",
      "views": {
       "grid_default": {
        "col": null,
        "height": 2,
        "hidden": true,
        "row": null,
        "width": 2
       }
      }
     }
    }
   },
   "outputs": [],
   "source": [
    "# AppLayout(header=header2,\n",
    "#           left_sidebar=VBox([sepal_length, sepal_width, petal_length, petal_width]),\n",
    "#           center=None,\n",
    "#           right_sidebar=out,\n",
    "#           footer=None,\n",
    "#           pane_widths=['500px', 1, 1],\n",
    "#           pane_heights=['80px', 4, 1],\n",
    "#           height='300px',\n",
    "#           grid_gap=\"10px\"\n",
    "#          )"
   ]
  },
  {
   "cell_type": "code",
   "execution_count": null,
   "id": "american-amber",
   "metadata": {
    "extensions": {
     "jupyter_dashboards": {
      "activeView": "grid_default",
      "views": {
       "grid_default": {
        "col": null,
        "height": 2,
        "hidden": true,
        "row": null,
        "width": 2
       }
      }
     }
    }
   },
   "outputs": [],
   "source": []
  },
  {
   "cell_type": "code",
   "execution_count": null,
   "id": "mineral-muscle",
   "metadata": {
    "extensions": {
     "jupyter_dashboards": {
      "activeView": "grid_default",
      "views": {
       "grid_default": {
        "col": null,
        "height": 2,
        "hidden": true,
        "row": null,
        "width": 2
       }
      }
     }
    }
   },
   "outputs": [],
   "source": []
  }
 ],
 "metadata": {
  "extensions": {
   "jupyter_dashboards": {
    "activeView": "grid_default",
    "version": 1,
    "views": {
     "grid_default": {
      "cellMargin": 10,
      "defaultCellHeight": 60,
      "maxColumns": 12,
      "name": "grid",
      "type": "grid"
     }
    }
   }
  },
  "kernelspec": {
   "display_name": "Python 3",
   "language": "python",
   "name": "python3"
  },
  "language_info": {
   "codemirror_mode": {
    "name": "ipython",
    "version": 3
   },
   "file_extension": ".py",
   "mimetype": "text/x-python",
   "name": "python",
   "nbconvert_exporter": "python",
   "pygments_lexer": "ipython3",
   "version": "3.8.5"
  }
 },
 "nbformat": 4,
 "nbformat_minor": 5
}
